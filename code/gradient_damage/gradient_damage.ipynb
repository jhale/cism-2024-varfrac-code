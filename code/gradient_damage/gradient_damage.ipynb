{
 "cells": [
  {
   "cell_type": "markdown",
   "id": "b34e9297",
   "metadata": {
    "lines_to_next_cell": 0
   },
   "source": [
    "# Gradient damage as phase-field models of brittle fracture\n",
    "\n",
    "*Authors:*\n",
    "- Jack S. Hale (University of Luxembourg)\n",
    "- Corrado Maurini (Sorbonne Université)\n",
    "\n",
    "In this notebook we implement a numerical solution of the quasi-static\n",
    "evolution problem for gradient damage models, and show how it can be used to\n",
    "solve brittle fracture problems.\n",
    "\n",
    "Denote $u$ the displacement field (vector-valued) and by $\\alpha$\n",
    "(scalar-valued) the damage field. We consider the energy functional\n",
    "\n",
    "$$\n",
    "\\mathcal{E}_{\\ell}(u, \\alpha)=\n",
    "\\dfrac{1}{2}\\int_{\\Omega} a({\\alpha})\n",
    "A_0\\,\\epsilon(u)\\cdot\\epsilon(u)\\,dx\n",
    "\\, +\n",
    "\\dfrac{G_c}{c_w} \\int_{\\Omega}\\left(\n",
    "\\dfrac{w(\\alpha)}{\\ell}+\n",
    "{\\ell}\\,\\nabla {\\alpha}\\cdot\\nabla{\\alpha}\\right)dx,\n",
    "$$\n",
    "\n",
    "where $\\epsilon(u) = \\tfrac{1}{2}(\\nabla u + (\\nabla u)^T)$ is the small\n",
    "strain tensor, $\\sigma_0=A_0\\,\\epsilon=\\lambda \\mathrm{tr}\\epsilon+2\\mu\n",
    "\\epsilon$ the stress of the undamaged material, with $\\mu$ and $\\lambda$ the\n",
    "usual Lamé parameters, $a({\\alpha})$ the stiffness modulation function that\n",
    "deteriorates the stiffness according to the damage, $w(\\alpha)$ the energy\n",
    "dissipation for a homogeneous process and $\\ell$ the internal length scale.\n",
    "\n",
    "In the following we will solve, at each pseudo-time step $t_i$, the\n",
    "minimization problem\n",
    "\n",
    "$$\n",
    "\\min\\mathcal{E}_{\\ell}(u, \\alpha),\\quad u\\in\\mathcal{C}_i, \\alpha\\in \\mathcal{D}_i,\n",
    "$$\n",
    "\n",
    "where $\\mathcal{C}_i$ is the space of kinematically admissible displacements\n",
    "at time $t_i$ and $\\mathcal{D}_i$ the admissible damage field at $t_i$ that\n",
    "satisfies the irreversibility condition $\\alpha\\geq\\alpha_{i-1}$.\n",
    "\n",
    "Here we will\n",
    " * Discretize the problem using (vector-valued) linear Lagrange finite\n",
    "   elements on quadrilaterals for the displacement and the damage field.\n",
    " * Use alternate minimization to solve the minimization problem at each time\n",
    "   step.\n",
    " * Use PETSc solvers to solve the resulting linear problems and enforce the\n",
    "   variational inequality at the discrete level.\n",
    "\n",
    "We will consider the problem of traction of a two-dimensional bar in\n",
    "plane-stress, where the mesh\n",
    "$\n",
    "\\Omega = [0,L] \\times [0,H],\n",
    "$\n",
    "and the problem is displacement controlled by setting the displacement\n",
    "$u=(t,0)$ on the right end, and the left end is fully clamped $u=(0,0)$.\n",
    "Damage is set to be zero on the left and right ends.\n",
    "\n",
    "You can find further information about this model in:\n",
    "- Marigo, J.-J., Maurini, C., & Pham, K. (2016). An overview of the modelling\n",
    "  of fracture by gradient damage models. Meccanica, 1-22.\n",
    "  https://doi.org/10.1007/s11012-016-0538-4\n",
    "\n",
    "## Preamble\n",
    "\n",
    "We begin by importing the required Python modules.\n",
    "\n",
    "The container images built by the FEniCS Project do not have the `sympy`\n",
    "module so we install it using pip using the Jupyterbook terminal.\n",
    "\n",
    "You can install sympy in your JupyterLab by opening a Terminal and running:\n",
    "\n",
    "    pip install sympy\n"
   ]
  },
  {
   "cell_type": "code",
   "execution_count": null,
   "id": "fc88a232",
   "metadata": {},
   "outputs": [],
   "source": [
    "import sys\n",
    "\n",
    "from mpi4py import MPI\n",
    "from petsc4py import PETSc\n",
    "\n",
    "import matplotlib.pyplot as plt\n",
    "import numpy as np\n",
    "\n",
    "import basix\n",
    "import dolfinx\n",
    "import dolfinx.fem.petsc\n",
    "import ufl\n",
    "from dolfinx import fem, la, mesh, plot\n",
    "\n",
    "sys.path.append(\"../utils/\")\n",
    "\n",
    "import pyvista\n",
    "import sympy\n",
    "from evaluate_on_points import evaluate_on_points\n",
    "from petsc_problems import SNESProblem\n",
    "from plots import plot_damage_state\n",
    "from pyvista.utilities.xvfb import start_xvfb\n",
    "\n",
    "start_xvfb(wait=0.5)"
   ]
  },
  {
   "cell_type": "markdown",
   "id": "8a5c2f5b",
   "metadata": {
    "lines_to_next_cell": 0
   },
   "source": [
    "## Mesh\n",
    "\n",
    "We define the mesh using the built-in DOLFINx mesh generation functions for\n",
    "simply geometries."
   ]
  },
  {
   "cell_type": "code",
   "execution_count": null,
   "id": "df4b728a",
   "metadata": {},
   "outputs": [],
   "source": [
    "L = 1.0\n",
    "H = 0.3\n",
    "ell_ = 0.1\n",
    "cell_size = ell_ / 6\n",
    "\n",
    "nx = int(L / cell_size)\n",
    "ny = int(H / cell_size)\n",
    "\n",
    "comm = MPI.COMM_WORLD\n",
    "msh = mesh.create_rectangle(\n",
    "    comm, [(0.0, 0.0), (L, H)], [nx, ny], cell_type=mesh.CellType.quadrilateral\n",
    ")\n",
    "ndim = msh.geometry.dim\n",
    "\n",
    "topology, cell_types, geometry = plot.vtk_mesh(msh)\n",
    "grid = pyvista.UnstructuredGrid(topology, cell_types, geometry)\n",
    "plotter = pyvista.Plotter()\n",
    "plotter.add_mesh(grid, show_edges=True, show_scalar_bar=True)\n",
    "plotter.view_xy()\n",
    "plotter.add_axes()\n",
    "plotter.set_scale(5, 5)\n",
    "if not pyvista.OFF_SCREEN:\n",
    "    plotter.show()"
   ]
  },
  {
   "cell_type": "markdown",
   "id": "ca22226e",
   "metadata": {
    "lines_to_next_cell": 0
   },
   "source": [
    "## Setting the stage\n",
    "\n",
    "We setup the finite element space, the states, the bound constraints on the\n",
    "states and UFL measures.\n",
    "\n",
    "We use (vector-valued) linear Lagrange finite elements on quadrilaterals for\n",
    "displacement and damage."
   ]
  },
  {
   "cell_type": "code",
   "execution_count": null,
   "id": "1400d373",
   "metadata": {},
   "outputs": [],
   "source": [
    "element_u = basix.ufl.element(\"Lagrange\", msh.basix_cell(), degree=1, shape=(msh.geometry.dim,))\n",
    "V_u = fem.functionspace(msh, element_u)\n",
    "\n",
    "element_alpha = basix.ufl.element(\"Lagrange\", msh.basix_cell(), degree=1)\n",
    "V_alpha = fem.functionspace(msh, element_alpha)\n",
    "\n",
    "# Define the state\n",
    "u = fem.Function(V_u, name=\"displacement\")\n",
    "alpha = fem.Function(V_alpha, name=\"damage\")\n",
    "\n",
    "# Domain measure.\n",
    "dx = ufl.Measure(\"dx\", domain=msh)"
   ]
  },
  {
   "cell_type": "markdown",
   "id": "8259f2ab",
   "metadata": {
    "lines_to_next_cell": 0
   },
   "source": [
    "### Boundary conditions\n",
    "We impose Dirichlet boundary conditions on the displacement and the damage\n",
    "field on the appropriate parts of the boundary.\n",
    "\n",
    "We do this using predicates. DOLFINx will pass an array of the midpoints of\n",
    "all facets (edges) as an argument `x` with shape `(3, num_edges)` to our\n",
    "predicate. The predicate we define must return an boolean array of shape\n",
    "`(num_edges)` containing `True` if the edge is on the desired boundary, and\n",
    "`False` if not."
   ]
  },
  {
   "cell_type": "code",
   "execution_count": null,
   "id": "6680cc80",
   "metadata": {},
   "outputs": [],
   "source": [
    "def bottom(x):\n",
    "    return np.isclose(x[1], 0.0)\n",
    "\n",
    "\n",
    "def top(x):\n",
    "    return np.isclose(x[1], H)\n",
    "\n",
    "\n",
    "def right(x):\n",
    "    return np.isclose(x[0], L)\n",
    "\n",
    "\n",
    "def left(x):\n",
    "    return np.isclose(x[0], 0.0)"
   ]
  },
  {
   "cell_type": "markdown",
   "id": "fc452e06",
   "metadata": {
    "lines_to_next_cell": 0
   },
   "source": [
    "The function `mesh.locate_entities_boundary` calculates the indices of the\n",
    "edges on the boundary defined by our predicate."
   ]
  },
  {
   "cell_type": "code",
   "execution_count": null,
   "id": "0a3d136e",
   "metadata": {},
   "outputs": [],
   "source": [
    "fdim = msh.topology.dim - 1\n",
    "\n",
    "left_facets = mesh.locate_entities_boundary(msh, fdim, left)\n",
    "right_facets = mesh.locate_entities_boundary(msh, fdim, right)\n",
    "bottom_facets = mesh.locate_entities_boundary(msh, fdim, bottom)"
   ]
  },
  {
   "cell_type": "markdown",
   "id": "77e4b8ac",
   "metadata": {
    "lines_to_next_cell": 0
   },
   "source": [
    "The function `fem.locate_dofs_topological` calculates the indices of the\n",
    "degrees of freedom associated with the edges. This is the information the\n",
    "assembler will need to apply Dirichlet boundary conditions."
   ]
  },
  {
   "cell_type": "code",
   "execution_count": null,
   "id": "45649d86",
   "metadata": {},
   "outputs": [],
   "source": [
    "left_boundary_dofs_ux = fem.locate_dofs_topological(V_u.sub(0), fdim, left_facets)\n",
    "right_boundary_dofs_ux = fem.locate_dofs_topological(V_u.sub(0), fdim, right_facets)\n",
    "bottom_boundary_dofs_uy = fem.locate_dofs_topological(V_u.sub(1), fdim, bottom_facets)"
   ]
  },
  {
   "cell_type": "markdown",
   "id": "8461ae78",
   "metadata": {
    "lines_to_next_cell": 0
   },
   "source": [
    "Using `fem.Constant` will allow us to update the value of the boundary\n",
    "condition applied in the pseudo-time loop."
   ]
  },
  {
   "cell_type": "code",
   "execution_count": null,
   "id": "5ca9920b",
   "metadata": {},
   "outputs": [],
   "source": [
    "u_D = fem.Constant(msh, 0.5)\n",
    "bc_ux_left = fem.dirichletbc(0.0, left_boundary_dofs_ux, V_u.sub(0))\n",
    "bc_ux_right = fem.dirichletbc(u_D, right_boundary_dofs_ux, V_u.sub(0))\n",
    "bc_uy_bottom = fem.dirichletbc(0.0, bottom_boundary_dofs_uy, V_u.sub(1))\n",
    "\n",
    "bcs_u = [bc_ux_left, bc_ux_right, bc_uy_bottom]"
   ]
  },
  {
   "cell_type": "markdown",
   "id": "25d8fe2e",
   "metadata": {
    "lines_to_next_cell": 0
   },
   "source": [
    "and similarly for the damage field."
   ]
  },
  {
   "cell_type": "code",
   "execution_count": null,
   "id": "c7b84b00",
   "metadata": {},
   "outputs": [],
   "source": [
    "left_boundary_dofs_alpha = fem.locate_dofs_topological(V_alpha, fdim, left_facets)\n",
    "right_boundary_dofs_alpha = fem.locate_dofs_topological(V_alpha, fdim, right_facets)\n",
    "bc_alpha_left = fem.dirichletbc(0.0, left_boundary_dofs_alpha, V_alpha)\n",
    "bc_alpha_right = fem.dirichletbc(0.0, right_boundary_dofs_alpha, V_alpha)\n",
    "\n",
    "bcs_alpha = [bc_alpha_left, bc_alpha_right]"
   ]
  },
  {
   "cell_type": "markdown",
   "id": "5f001009",
   "metadata": {
    "lines_to_next_cell": 0
   },
   "source": [
    "## Variational formulation of the problem\n",
    "### Constitutive model\n",
    "\n",
    "We will now define the constitutive model and the related parameters. In turn\n",
    "these will be used to define the energy. The code is sufficiently generic to\n",
    "allow for a wide class of functions $w$ and $a$.\n",
    "\n",
    "**Exercise:** Show by dimensional analysis that varying $G_c$ and $E$ is\n",
    "equivalent to a rescaling of the displacement by a constant factor.\n",
    "\n",
    "$$\n",
    "u_0 = \\sqrt{\\frac{G_c L}{E}}\n",
    "$$\n",
    "\n",
    "We can then choose these constants freely in the numerical work (e.g.\n",
    "unitary) and simply rescale the displacement to match the material data of a\n",
    "specific brittle material.\n",
    "\n",
    "The *real* material parameters (in the sense that they are those that affect\n",
    "the results) are\n",
    "- the Poisson ratio $\\nu$ and\n",
    "- the ratio $\\ell/L$ between internal length $\\ell$ and the msh size $L$."
   ]
  },
  {
   "cell_type": "code",
   "execution_count": null,
   "id": "30cbcd5d",
   "metadata": {},
   "outputs": [],
   "source": [
    "E, nu = (\n",
    "    fem.Constant(msh, dolfinx.default_scalar_type(100.0)),\n",
    "    fem.Constant(msh, dolfinx.default_scalar_type(0.3)),\n",
    ")\n",
    "Gc = fem.Constant(msh, dolfinx.default_scalar_type(1.0))\n",
    "ell = fem.Constant(msh, dolfinx.default_scalar_type(ell_))\n",
    "\n",
    "\n",
    "def w(alpha):\n",
    "    \"\"\"Dissipated energy function as a function of the damage\"\"\"\n",
    "    return alpha\n",
    "\n",
    "\n",
    "def a(alpha, k_ell=1.0e-6):\n",
    "    \"\"\"Stiffness modulation as a function of the damage\"\"\"\n",
    "    return (1 - alpha) ** 2 + k_ell\n",
    "\n",
    "\n",
    "def eps(u):\n",
    "    \"\"\"Strain tensor as a function of the displacement\"\"\"\n",
    "    return ufl.sym(ufl.grad(u))\n",
    "\n",
    "\n",
    "def sigma_0(eps):\n",
    "    \"\"\"Stress tensor of the undamaged material as a function of the strain\"\"\"\n",
    "    mu = E / (2.0 * (1.0 + nu))\n",
    "    lmbda = E * nu / (1.0 - nu**2)\n",
    "    return 2.0 * mu * eps + lmbda * ufl.tr(eps) * ufl.Identity(ndim)\n",
    "\n",
    "\n",
    "def sigma(eps, alpha):\n",
    "    \"\"\"Stress tensor of the damaged material as a function of the displacement and the damage\"\"\"\n",
    "    return a(alpha) * sigma_0(eps)"
   ]
  },
  {
   "cell_type": "markdown",
   "id": "b384b5f7",
   "metadata": {
    "lines_to_next_cell": 0
   },
   "source": [
    "**Exercise:**\n",
    "1. Show that it is possible to relate the dissipation constant $w_1$ to the\n",
    "energy dissipated in a smeared representation of a crack through the\n",
    "following relation:\n",
    "\n",
    "$$\n",
    "{G_c}={c_w}\\,w_1\\ell,\\qquad c_w = 4\\int_0^1\\sqrt{w(\\alpha)}d\\alpha\n",
    "$$\n",
    "\n",
    "For the function above we get (we perform the integral with `sympy`)."
   ]
  },
  {
   "cell_type": "code",
   "execution_count": null,
   "id": "84dfc66c",
   "metadata": {},
   "outputs": [],
   "source": [
    "z = sympy.Symbol(\"z\")\n",
    "c_w = 4 * sympy.integrate(sympy.sqrt(w(z)), (z, 0, 1))\n",
    "print(f\"c_w = {c_w}\")"
   ]
  },
  {
   "cell_type": "markdown",
   "id": "5afbc568",
   "metadata": {
    "lines_to_next_cell": 0
   },
   "source": [
    "2. The half-width $D$ of the localisation zone is given by:\n",
    "\n",
    "$$\n",
    "D = c_{1/w} \\ell,\\qquad c_{1/w}=\\int_0^1 \\frac{1}{\\sqrt{w(\\alpha)}}d\\alpha\n",
    "$$\n"
   ]
  },
  {
   "cell_type": "code",
   "execution_count": null,
   "id": "01342959",
   "metadata": {},
   "outputs": [],
   "source": [
    "c_1w = sympy.integrate(sympy.sqrt(1 / w(z)), (z, 0, 1))\n",
    "D = c_1w * ell_\n",
    "print(f\"c_1/w = {c_1w}\")\n",
    "print(f\"D = {D}\")"
   ]
  },
  {
   "cell_type": "markdown",
   "id": "f5e5b7bd",
   "metadata": {
    "lines_to_next_cell": 0
   },
   "source": [
    "3. The elastic limit of the material is:\n",
    "\n",
    "$$\n",
    "\\sigma_c = \\sqrt{w_1\\,E_0}\\sqrt{\\dfrac{2w'(0)}{s'(0)}}= \\sqrt{\\dfrac{G_cE_0}{\\ell c_w}}\n",
    "\\sqrt{\\dfrac{2w'(0)}{s'(0)}}\n",
    "$$\n",
    "\n",
    "*Hint:* Calculate the damage profile and the energy of a localised solution\n",
    "with vanishing stress in a 1d traction problem\n"
   ]
  },
  {
   "cell_type": "code",
   "execution_count": null,
   "id": "2f1a1674",
   "metadata": {},
   "outputs": [],
   "source": [
    "tmp = 2 * (sympy.diff(w(z), z) / sympy.diff(1 / a(z), z)).subs({\"z\": 0})\n",
    "sigma_c = sympy.sqrt(tmp * Gc.value * E.value / (c_w * ell.value))\n",
    "print(f\"sigma_c = {sigma_c}\")\n",
    "\n",
    "eps_c = float(sigma_c / E.value)\n",
    "print(f\"eps_c = {eps_c}\")"
   ]
  },
  {
   "cell_type": "markdown",
   "id": "bb994d52",
   "metadata": {
    "lines_to_next_cell": 0
   },
   "source": [
    "### Energy functional and its derivatives\n",
    "\n",
    "We use the `ufl` package of FEniCS to define the energy functional. The\n",
    "residual (first Gateaux derivative of the energy functional) and Jacobian\n",
    "(second Gateaux derivative of the energy functional) can then be derived\n",
    "through automatic symbolic differentiation using `ufl.derivative`."
   ]
  },
  {
   "cell_type": "code",
   "execution_count": null,
   "id": "ecbc7832",
   "metadata": {},
   "outputs": [],
   "source": [
    "f = fem.Constant(msh, PETSc.ScalarType((0.0, 0.0)))\n",
    "elastic_energy = 0.5 * ufl.inner(sigma(eps(u), alpha), eps(u)) * dx\n",
    "dissipated_energy = (\n",
    "    Gc / float(c_w) * (w(alpha) / ell + ell * ufl.inner(ufl.grad(alpha), ufl.grad(alpha))) * dx\n",
    ")\n",
    "external_work = ufl.inner(f, u) * dx\n",
    "total_energy = elastic_energy + dissipated_energy - external_work"
   ]
  },
  {
   "cell_type": "markdown",
   "id": "79fa001e",
   "metadata": {
    "lines_to_next_cell": 0
   },
   "source": [
    "## Solvers\n",
    "### Displacement problem\n",
    "The displacement problem ($u$) at for fixed damage ($\\alpha$) is a linear\n",
    "problem equivalent to linear elasticity with a spatially varying stiffness.\n",
    "We solve it with a standard linear solver. We use automatic differention to\n",
    "get the first derivative of the energy. We use a direct solve to solve the\n",
    "linear system, but you can also set iterative solvers and preconditioners\n",
    "when solving large problem in parallel."
   ]
  },
  {
   "cell_type": "code",
   "execution_count": null,
   "id": "de2b184a",
   "metadata": {},
   "outputs": [],
   "source": [
    "E_u = ufl.derivative(total_energy, u, ufl.TestFunction(V_u))\n",
    "E_u_u = ufl.derivative(E_u, u, ufl.TrialFunction(V_u))\n",
    "elastic_problem = SNESProblem(E_u, u, bcs_u)\n",
    "\n",
    "b_u = la.create_petsc_vector(V_u.dofmap.index_map, V_u.dofmap.index_map_bs)\n",
    "J_u = dolfinx.fem.petsc.create_matrix(elastic_problem.a)\n",
    "\n",
    "# Create Newton solver and solve\n",
    "solver_u_snes = PETSc.SNES().create()\n",
    "solver_u_snes.setType(\"ksponly\")\n",
    "solver_u_snes.setFunction(elastic_problem.F, b_u)\n",
    "solver_u_snes.setJacobian(elastic_problem.J, J_u)\n",
    "solver_u_snes.setTolerances(rtol=1.0e-9, max_it=50)\n",
    "solver_u_snes.getKSP().setType(\"preonly\")\n",
    "solver_u_snes.getKSP().setTolerances(rtol=1.0e-9)\n",
    "solver_u_snes.getKSP().getPC().setType(\"lu\")"
   ]
  },
  {
   "cell_type": "markdown",
   "id": "cc67b0cc",
   "metadata": {
    "lines_to_next_cell": 0
   },
   "source": [
    "We test the solution of the elasticity problem"
   ]
  },
  {
   "cell_type": "code",
   "execution_count": null,
   "id": "69eb9f6e",
   "metadata": {},
   "outputs": [],
   "source": [
    "load = 1.0\n",
    "u_D.value = load\n",
    "u.x.array[:] = 0.0\n",
    "solver_u_snes.solve(None, u.vector)\n",
    "plot_damage_state(u, alpha, load=load)"
   ]
  },
  {
   "cell_type": "markdown",
   "id": "05647f57",
   "metadata": {
    "lines_to_next_cell": 0
   },
   "source": [
    "### Damage problem with bound-constraint\n",
    "\n",
    "The damage problem ($\\alpha$) at fixed displacement ($u$) is a variational\n",
    "inequality due to the irreversibility constraint and the bounds on the\n",
    "damage. We solve it using a specific solver for bound-constrained provided by\n",
    "PETSc, called SNESVI. To this end we define with a specific syntax a class\n",
    "defining the problem, and the lower (`lb`) and upper (`ub`) bounds."
   ]
  },
  {
   "cell_type": "code",
   "execution_count": null,
   "id": "fb22f137",
   "metadata": {},
   "outputs": [],
   "source": [
    "E_alpha = ufl.derivative(total_energy, alpha, ufl.TestFunction(V_alpha))\n",
    "E_alpha_alpha = ufl.derivative(E_alpha, alpha, ufl.TrialFunction(V_alpha))\n",
    "\n",
    "# We now set up the PETSc solver using petsc4py, a fully featured Python\n",
    "# wrapper around PETSc.\n",
    "damage_problem = SNESProblem(E_alpha, alpha, bcs_alpha, J=E_alpha_alpha)\n",
    "\n",
    "b_alpha = la.create_petsc_vector(V_alpha.dofmap.index_map, V_alpha.dofmap.index_map_bs)\n",
    "J_alpha = fem.petsc.create_matrix(damage_problem.a)\n",
    "\n",
    "# Create Newton variational inequality solver and solve\n",
    "solver_alpha_snes = PETSc.SNES().create()\n",
    "solver_alpha_snes.setType(\"vinewtonrsls\")\n",
    "solver_alpha_snes.setFunction(damage_problem.F, b_alpha)\n",
    "solver_alpha_snes.setJacobian(damage_problem.J, J_alpha)\n",
    "solver_alpha_snes.setTolerances(rtol=1.0e-9, max_it=50)\n",
    "solver_alpha_snes.getKSP().setType(\"preonly\")\n",
    "solver_alpha_snes.getKSP().setTolerances(rtol=1.0e-9)\n",
    "solver_alpha_snes.getKSP().getPC().setType(\"lu\")\n",
    "\n",
    "# Lower bound for the damage field\n",
    "alpha_lb = fem.Function(V_alpha, name=\"lower bound\")\n",
    "alpha_lb.x.array[:] = 0.0\n",
    "# Upper bound for the damage field\n",
    "alpha_ub = fem.Function(V_alpha, name=\"upper bound\")\n",
    "alpha_ub.x.array[:] = 1.0\n",
    "solver_alpha_snes.setVariableBounds(alpha_lb.vector, alpha_ub.vector)"
   ]
  },
  {
   "cell_type": "markdown",
   "id": "516a8b94",
   "metadata": {
    "lines_to_next_cell": 0
   },
   "source": [
    "### Solver description\n",
    "\n",
    "A full description of the reduced space active set Newton solver\n",
    "(`vinewtonrsls`) can be found in:\n",
    "\n",
    "- Benson, S. J., Munson, T. S. (2004). Flexible complimentarity solvers for\n",
    "  large-scale applications. Optimization Methods and Software.\n",
    "  https://doi.org/10.1080/10556780500065382\n",
    "\n",
    "We recall the main details here and allow for some mathematical\n",
    "simplifications.\n",
    "\n",
    "Consider the residual function $F : \\mathbb{R}^n \\to \\mathbb{R}^n$ and a\n",
    "given a fixed point $x^k \\in \\mathbb{R}^n$. Concretely $F(x^k)$ corresponds\n",
    "to the damage residual vector assembled from the form `damage_problem.F` and\n",
    "$x^k$ is the current damage `alpha`. We now define the active $\\mathcal{A}$\n",
    "and inactive $\\mathcal{I}$ subsets:\n",
    "\n",
    "$$\n",
    "\\mathcal{A}(x) := \\left\\lbrace i \\in \\left\\lbrace 1, \\ldots, n \\right\\rbrace\n",
    "\\; | \\; x_i = 0 \\; \\mathrm{and} \\; F_i(x) > 0 \\right\\rbrace\n",
    "$$\n",
    "\n",
    "$$\n",
    "\\mathcal{I}(x) := \\left\\lbrace i \\in \\left\\lbrace 1, \\ldots, n \\right\\rbrace\n",
    "\\; | \\; x_i > 0 \\; \\mathrm{or} \\; F_i(x) \\le 0 \\right\\rbrace\n",
    "$$\n",
    "\n",
    "For a vector $F(x^k)$ or matrix $J(x^k)$ we write its restriction to a set\n",
    "$\\mathcal{I}$ as $d_{\\mathcal{I}}$ and $J_{\\mathcal{I},\\mathcal{I}}$,\n",
    "respectively, where the explicit dependence of $\\mathcal{I}$ on $x$ has been\n",
    "dropped. We define the Newton increment for the current step as $d = 0$, and\n",
    "set $d_{\\mathcal{A}} = 0$. We then solve the reduced space Newton system for\n",
    "the reduced Newton direction on the inactive set $d_{\\mathcal{I}}$:\n",
    "\n",
    "$$\n",
    "[ \\nabla F(x^k) ]_{\\mathcal{I},\\mathcal{I}} d_{\\mathcal{I}}^k = -F_{\\mathcal{I}}(x^k)\n",
    "$$\n",
    "\n",
    "Note that by construction the calculated direction is zero on the active set.\n",
    "We then set:\n",
    "\n",
    "$$\n",
    "x^{k+1} = \\pi[x^k + d^k]\n",
    "$$\n",
    "\n",
    "where $\\pi$ is the projection onto the variable bounds. This algorithm can be\n",
    "enhanced with a line search procedure to compute how far along the direction\n",
    "$d^k$ we should move.\n",
    "\n",
    "Let us now test the solution of the damage problem"
   ]
  },
  {
   "cell_type": "code",
   "execution_count": null,
   "id": "0e286bb4",
   "metadata": {},
   "outputs": [],
   "source": [
    "solver_alpha_snes.solve(None, alpha.vector)\n",
    "plot_damage_state(u, alpha, load=load)"
   ]
  },
  {
   "cell_type": "markdown",
   "id": "bd49194d",
   "metadata": {
    "lines_to_next_cell": 0
   },
   "source": [
    "Before continuing we reset the displacement and damage to zero."
   ]
  },
  {
   "cell_type": "code",
   "execution_count": null,
   "id": "7ee0566d",
   "metadata": {},
   "outputs": [],
   "source": [
    "alpha.x.array[:] = 0.0\n",
    "u.x.array[:] = 0.0"
   ]
  },
  {
   "cell_type": "markdown",
   "id": "3ef05194",
   "metadata": {
    "lines_to_next_cell": 0
   },
   "source": [
    "### The static problem: solution with the alternate minimization algorithm\n",
    "\n",
    "We solve the non-linear problem in $(u,\\alpha)$ at each pseudo-timestep by a\n",
    "fixed-point algorithm consisting of alternate minimization with respect to\n",
    "$u$ at fixed $\\alpha$ and then for $\\alpha$ at fixed $u$ until convergence is\n",
    "achieved.\n",
    "\n",
    "We now define a function that `alternate_minimization` that performs the\n",
    "alternative minimisation algorithm and assesses convergence based on the\n",
    "$L^2$ norm of the difference between the damage field at the current iterate\n",
    "and the previous iterate."
   ]
  },
  {
   "cell_type": "code",
   "execution_count": null,
   "id": "25455e58",
   "metadata": {},
   "outputs": [],
   "source": [
    "def simple_monitor(u, alpha, iteration, error_L2):\n",
    "    print(f\"Iteration: {iteration}, Error: {error_L2:3.4e}\")\n",
    "\n",
    "\n",
    "def alternate_minimization(u, alpha, atol=1e-8, max_iterations=100, monitor=simple_monitor):\n",
    "    alpha_old = fem.Function(alpha.function_space)\n",
    "    alpha_old.x.array[:] = alpha.x.array\n",
    "\n",
    "    for iteration in range(max_iterations):\n",
    "        # Solve for displacement\n",
    "        solver_u_snes.solve(None, u.vector)\n",
    "\n",
    "        # Solve for damage\n",
    "        solver_alpha_snes.solve(None, alpha.vector)\n",
    "\n",
    "        # Check error and update\n",
    "        L2_error = ufl.inner(alpha - alpha_old, alpha - alpha_old) * dx\n",
    "        error_L2 = np.sqrt(comm.allreduce(fem.assemble_scalar(fem.form(L2_error)), op=MPI.SUM))\n",
    "        alpha_old.x.array[:] = alpha.x.array\n",
    "\n",
    "        if monitor is not None:\n",
    "            monitor(u, alpha, iteration, error_L2)\n",
    "\n",
    "        if error_L2 <= atol:\n",
    "            return (error_L2, iteration)\n",
    "\n",
    "    raise RuntimeError(\n",
    "        f\"Could not converge after {max_iterations} iterations, error {error_L2:3.4e}\"\n",
    "    )"
   ]
  },
  {
   "cell_type": "markdown",
   "id": "23903cbb",
   "metadata": {
    "lines_to_next_cell": 0
   },
   "source": [
    "## Time-stepping: solving a quasi-static problem"
   ]
  },
  {
   "cell_type": "code",
   "execution_count": null,
   "id": "d0c25063",
   "metadata": {},
   "outputs": [],
   "source": [
    "load_c = eps_c * L  # reference value for the loading (imposed displacement)\n",
    "loads = np.linspace(0, 1.5 * load_c, 20)\n",
    "\n",
    "# Array to store results\n",
    "energies = np.zeros((loads.shape[0], 3))\n",
    "\n",
    "for i_t, t in enumerate(loads):\n",
    "    u_D.value = t\n",
    "    energies[i_t, 0] = t\n",
    "\n",
    "    # Update the lower bound to ensure irreversibility of damage field.\n",
    "    alpha_lb.x.array[:] = alpha.x.array\n",
    "\n",
    "    print(f\"-- Solving for t = {t:3.2f} --\")\n",
    "    alternate_minimization(u, alpha)\n",
    "    plot_damage_state(u, alpha)\n",
    "\n",
    "    # Calculate the energies\n",
    "    energies[i_t, 1] = comm.allreduce(\n",
    "        dolfinx.fem.assemble_scalar(dolfinx.fem.form(elastic_energy)),\n",
    "        op=MPI.SUM,\n",
    "    )\n",
    "    energies[i_t, 2] = comm.allreduce(\n",
    "        dolfinx.fem.assemble_scalar(dolfinx.fem.form(dissipated_energy)),\n",
    "        op=MPI.SUM,\n",
    "    )"
   ]
  },
  {
   "cell_type": "markdown",
   "id": "45262f02",
   "metadata": {
    "lines_to_next_cell": 0
   },
   "source": [
    "We now plot the total, elastic and dissipated energies throughout the\n",
    "pseudo-time evolution against the applied displacement."
   ]
  },
  {
   "cell_type": "code",
   "execution_count": null,
   "id": "37f51fd3",
   "metadata": {},
   "outputs": [],
   "source": [
    "(p3,) = plt.plot(energies[:, 0], energies[:, 1] + energies[:, 2], \"ko\", linewidth=2, label=\"Total\")\n",
    "(p1,) = plt.plot(energies[:, 0], energies[:, 1], \"b*\", linewidth=2, label=\"Elastic\")\n",
    "(p2,) = plt.plot(energies[:, 0], energies[:, 2], \"r^\", linewidth=2, label=\"Dissipated\")\n",
    "plt.legend()\n",
    "\n",
    "plt.axvline(x=eps_c * L, color=\"grey\", linestyle=\"--\", linewidth=2)\n",
    "plt.axhline(y=H, color=\"grey\", linestyle=\"--\", linewidth=2)\n",
    "\n",
    "plt.xlabel(\"Displacement\")\n",
    "plt.ylabel(\"Energy\")\n",
    "\n",
    "plt.savefig(\"output/energies.png\")"
   ]
  },
  {
   "cell_type": "markdown",
   "id": "9f644b6c",
   "metadata": {
    "lines_to_next_cell": 0
   },
   "source": [
    "## Verification\n",
    "\n",
    "The plots above indicates that the crack appears at the elastic limit\n",
    "calculated analytically (see the gridlines) and that the dissipated energy\n",
    "coincides with the length of the crack times the fracture toughness $G_c$.\n",
    "Let's check the dissipated energy explicity."
   ]
  },
  {
   "cell_type": "code",
   "execution_count": null,
   "id": "5de462ab",
   "metadata": {},
   "outputs": [],
   "source": [
    "surface_energy_value = comm.allreduce(\n",
    "    dolfinx.fem.assemble_scalar(dolfinx.fem.form(dissipated_energy)), op=MPI.SUM\n",
    ")\n",
    "print(f\"The numerical dissipated energy on the crack is {surface_energy_value:.3f}\")\n",
    "print(f\"The expected analytical value is {H:.3f}\")"
   ]
  },
  {
   "cell_type": "markdown",
   "id": "a59ffa96",
   "metadata": {
    "lines_to_next_cell": 0
   },
   "source": [
    "Let's take a look at the damage profile and verify that we acheive the\n",
    "expected solution for the AT1 model. We can easily see that the solution\n",
    "is bounded between $0$ and $1$ and that the decay to zero of the damage profile\n",
    "happens around the theoretical half-width $D$."
   ]
  },
  {
   "cell_type": "code",
   "execution_count": null,
   "id": "04bd879d",
   "metadata": {},
   "outputs": [],
   "source": [
    "tol = 0.001  # Avoid hitting the boundary of the mesh\n",
    "num_points = 101\n",
    "points = np.zeros((num_points, 3))\n",
    "\n",
    "y = np.linspace(0.0 + tol, L - tol, num=num_points)\n",
    "points[:, 0] = y\n",
    "points[:, 1] = H / 2.0\n",
    "\n",
    "fig = plt.figure()\n",
    "points_on_proc, alpha_val = evaluate_on_points(alpha, points)\n",
    "plt.plot(points_on_proc[:, 0], alpha_val, \"k\", linewidth=2, label=\"damage\")\n",
    "plt.axvline(x=0.5 - D, color=\"grey\", linestyle=\"--\", linewidth=2)\n",
    "plt.axvline(x=0.5 + D, color=\"grey\", linestyle=\"--\", linewidth=2)\n",
    "plt.grid(True)\n",
    "plt.xlabel(\"x\")\n",
    "plt.ylabel(r\"damage $\\alpha$\")\n",
    "plt.legend()\n",
    "\n",
    "# If run in parallel as a Python file, we save a plot per processor\n",
    "plt.savefig(f\"output/damage_line_rank_{MPI.COMM_WORLD.rank:d}.png\")"
   ]
  },
  {
   "cell_type": "markdown",
   "id": "80e2099a",
   "metadata": {},
   "source": [
    "## Exercises\n",
    "\n",
    "You can duplicate this notebook by selecting `File > Duplicate Python File` in\n",
    "the menu. There are many experiments that you can try easily.\n",
    "\n",
    "1. Experiment with the regularisation length scale and the mesh size.\n",
    "2. Replace the mesh with an unstructured mesh generated with gmsh.\n",
    "3. Refactor `alternate_minimization` as an external function and put it\n",
    "   in a seperate `.py` file and `import` it into the notebook.\n",
    "4. Implement the AT2 model.\n",
    "5. Run simulations with:\n",
    "    1. A slab with an hole in the center.\n",
    "    2. A slab with a V-notch."
   ]
  }
 ],
 "metadata": {
  "jupytext": {
   "main_language": "python"
  }
 },
 "nbformat": 4,
 "nbformat_minor": 5
}
